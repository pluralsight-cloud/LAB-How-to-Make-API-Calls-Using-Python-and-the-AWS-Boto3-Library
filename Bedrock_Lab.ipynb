{
 "cells": [
  {
   "cell_type": "markdown",
   "id": "3c402718-8a9a-4bf3-890a-3a5f2ecec2d4",
   "metadata": {},
   "source": [
    "# How to Make API Calls Using Python and the AWS Boto3 Library\n",
    "\n",
    "In this notebook, we'll use the boto3 Python SDK to interact with Amazon Bedrock Foundation Models.\n",
    "\n",
    "1) Install the required dependencies to interact with Amazon Bedrock\n",
    "\n",
    "2) Use the Amazon Bedrock API to initialize the Bedrock client and verify connectivity\n",
    "\n",
    "3) Invoke the Bedrock API and display the results"
   ]
  },
  {
   "cell_type": "markdown",
   "id": "7bbdbb9e-0750-4bcf-bc7f-01ade72c403b",
   "metadata": {},
   "source": [
    "## 1. Install the required dependencies to interact with Amazon Bedrock\n",
    "\n",
    "Install the required packages needed. Ignore any pip dependency errors, they won't affect what we're doing."
   ]
  },
  {
   "cell_type": "code",
   "execution_count": null,
   "id": "ce526da4-42d2-4b04-a1eb-40add75a53c3",
   "metadata": {
    "tags": []
   },
   "outputs": [],
   "source": [
    "%pip install --upgrade -q botocore\n",
    "%pip install --upgrade -q boto3\n",
    "%pip install --upgrade -q awscli"
   ]
  },
  {
   "cell_type": "code",
   "execution_count": null,
   "id": "0dd0035a-f27a-425a-a2cf-de0f29de40d7",
   "metadata": {
    "tags": []
   },
   "outputs": [],
   "source": [
    "# restart kernel\n",
    "from IPython.core.display import HTML\n",
    "HTML(\"<script>Jupyter.notebook.kernel.restart()</script>\")"
   ]
  },
  {
   "cell_type": "markdown",
   "id": "7ccd28ef-a5d9-4cab-9e95-bf71f8814896",
   "metadata": {},
   "source": [
    "## 2. Use the Amazon Bedrock API to initialize the Bedrock client and verify connectivity\n",
    "Interaction with the Bedrock API is done using boto3 the AWS SDK for Python."
   ]
  },
  {
   "cell_type": "code",
   "execution_count": null,
   "id": "157a4548-0f37-4652-9a9f-b66f146e0ba9",
   "metadata": {
    "tags": []
   },
   "outputs": [],
   "source": [
    "import json\n",
    "import os\n",
    "import sys\n",
    "\n",
    "import boto3\n",
    "\n",
    "boto3_bedrock = boto3.client('bedrock')"
   ]
  },
  {
   "cell_type": "markdown",
   "id": "b6ee365b-b4de-4092-bc77-a918aa2d3987",
   "metadata": {},
   "source": [
    "### Verify connectivity\n",
    "We can check the client works by trying out the list_foundation_models() method, this will display all the models available for us to use"
   ]
  },
  {
   "cell_type": "code",
   "execution_count": null,
   "id": "2139e9a0-9617-42d5-b1c8-4bee26c0dc93",
   "metadata": {
    "tags": []
   },
   "outputs": [],
   "source": [
    "boto3_bedrock.list_foundation_models()"
   ]
  },
  {
   "cell_type": "markdown",
   "id": "e7ab4497-41ce-4e50-b95f-cff6f9c48671",
   "metadata": {},
   "source": [
    "## 3. Invoke the Bedrock API and display the results\n",
    "Run the cells below to invoke the Bedrock runtime used to interact with models"
   ]
  },
  {
   "cell_type": "code",
   "execution_count": null,
   "id": "d58d9352-2858-4755-88ff-47659a1796b7",
   "metadata": {
    "tags": []
   },
   "outputs": [],
   "source": [
    "import boto3\n",
    "import botocore\n",
    "import json \n",
    "\n",
    "bedrock_runtime = boto3.client('bedrock-runtime')"
   ]
  },
  {
   "cell_type": "markdown",
   "id": "7ed790a5-4c24-4398-b759-29ea42562c4a",
   "metadata": {},
   "source": [
    "### Build our prompt\n",
    "Edit this cell to use a different prompt"
   ]
  },
  {
   "cell_type": "code",
   "execution_count": null,
   "id": "9da28ec6-1f47-41e6-a729-5fb92123cbb5",
   "metadata": {},
   "outputs": [],
   "source": [
    "prompt_data = \"\"\"Command: Write a social post about cost optimization on AWS\n",
    "\n",
    "Post:\n",
    "\"\"\""
   ]
  },
  {
   "cell_type": "markdown",
   "id": "0a30e2ea-6cf0-47b3-989b-6bdbfe8a6165",
   "metadata": {},
   "source": [
    "### Invoke the model using the prompt\n",
    "Construct the body using the prompt_data from the previous cell\n",
    "Add parameters like topP and temperature to control the level creativity"
   ]
  },
  {
   "cell_type": "code",
   "execution_count": null,
   "id": "13235574-9d12-4126-9601-dd7448e628e6",
   "metadata": {
    "tags": []
   },
   "outputs": [],
   "source": [
    "try:\n",
    "\n",
    "    body = json.dumps({\"inputText\": prompt_data, \"textGenerationConfig\" : {\"topP\":0.95, \"temperature\":0.2}})\n",
    "    modelId = \"amazon.titan-text-lite-v1\"\n",
    "    accept = \"application/json\"\n",
    "    contentType = \"application/json\"\n",
    "\n",
    "    response = bedrock_runtime.invoke_model(\n",
    "        body=body, modelId=modelId, accept=accept, contentType=contentType\n",
    "    )\n",
    "    response_body = json.loads(response.get(\"body\").read())\n",
    "\n",
    "    print(response_body.get(\"results\")[0].get(\"outputText\"))\n",
    "\n",
    "except botocore.exceptions.ClientError as error:\n",
    "\n",
    "    if error.response['Error']['Code'] == 'AccessDeniedException':\n",
    "           print(f\"\\x1b[41m{error.response['Error']['Message']}\\\n",
    "                \\nTo troubeshoot this issue please refer to the following resources.\\\n",
    "                 \\nhttps://docs.aws.amazon.com/IAM/latest/UserGuide/troubleshoot_access-denied.html\\\n",
    "                 \\nhttps://docs.aws.amazon.com/bedrock/latest/userguide/security-iam.html\\x1b[0m\\n\")\n",
    "\n",
    "    else:\n",
    "        raise error\n"
   ]
  },
  {
   "cell_type": "markdown",
   "id": "28528d9e-492d-4ff0-bc6f-642ce6731464",
   "metadata": {},
   "source": [
    "### Create an image using Stability Stable Diffusion XL\n",
    "## Build our prompt\n",
    "Edit this cell to use a different prompt"
   ]
  },
  {
   "cell_type": "code",
   "execution_count": null,
   "id": "be324c2e-3b8d-4e46-87c5-f49a907c9065",
   "metadata": {
    "tags": []
   },
   "outputs": [],
   "source": [
    "prompt_data = \"a rocket with AWS printed on the side\"\n",
    "body = json.dumps({\n",
    "    \"text_prompts\": [{\"text\": prompt_data}],\n",
    "    \"cfg_scale\": 10,\n",
    "    \"seed\": 20,\n",
    "    \"steps\": 50\n",
    "})\n",
    "modelId = \"stability.stable-diffusion-xl-v1\"\n",
    "accept = \"application/json\"\n",
    "contentType = \"application/json\"\n",
    "\n",
    "try:\n",
    "\n",
    "    response = bedrock_runtime.invoke_model(\n",
    "        body=body, modelId=modelId, accept=accept, contentType=contentType\n",
    "    )\n",
    "    response_body = json.loads(response.get(\"body\").read())\n",
    "\n",
    "    print(response_body[\"result\"])\n",
    "    print(f'{response_body.get(\"artifacts\")[0].get(\"base64\")[0:80]}...')\n",
    "\n",
    "except botocore.exceptions.ClientError as error:\n",
    "\n",
    "    if error.response['Error']['Code'] == 'AccessDeniedException':\n",
    "           print(f\"\\x1b[41m{error.response['Error']['Message']}\\\n",
    "                \\nTo troubeshoot this issue please refer to the following resources.\\\n",
    "                 \\nhttps://docs.aws.amazon.com/IAM/latest/UserGuide/troubleshoot_access-denied.html\\\n",
    "                 \\nhttps://docs.aws.amazon.com/bedrock/latest/userguide/security-iam.html\\x1b[0m\\n\")\n",
    "\n",
    "    else:\n",
    "        raise error\n"
   ]
  },
  {
   "cell_type": "markdown",
   "id": "a06660c0-2ed2-4b87-87b1-fc444ad9b0a6",
   "metadata": {},
   "source": [
    "### Decode the image using PIL \n",
    "The output from the model is a base64 encoded string of the image data. \n",
    "Use an image processing library like Pillow (PIL) to decode the image so we can view it."
   ]
  },
  {
   "cell_type": "code",
   "execution_count": null,
   "id": "ee7355d9-7319-4d27-823f-ed64b38a7c37",
   "metadata": {
    "tags": []
   },
   "outputs": [],
   "source": [
    "import base64\n",
    "import io\n",
    "from PIL import Image\n",
    "\n",
    "base_64_img_str = response_body.get(\"artifacts\")[0].get(\"base64\")\n",
    "image = Image.open(io.BytesIO(base64.decodebytes(bytes(base_64_img_str, \"utf-8\"))))\n",
    "image"
   ]
  }
 ],
 "metadata": {
  "kernelspec": {
   "display_name": "conda_python3",
   "language": "python",
   "name": "conda_python3"
  },
  "language_info": {
   "codemirror_mode": {
    "name": "ipython",
    "version": 3
   },
   "file_extension": ".py",
   "mimetype": "text/x-python",
   "name": "python",
   "nbconvert_exporter": "python",
   "pygments_lexer": "ipython3",
   "version": "3.10.16"
  }
 },
 "nbformat": 4,
 "nbformat_minor": 5
}
